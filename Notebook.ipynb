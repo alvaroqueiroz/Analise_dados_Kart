{
 "cells": [
  {
   "cell_type": "markdown",
   "metadata": {},
   "source": [
    "# Introdução\n",
    "\n",
    "## Neste Notebook os dados de uma corrida de Kart abaixo serão explorados"
   ]
  },
  {
   "cell_type": "raw",
   "metadata": {},
   "source": [
    "Hora                               Piloto             Nº Volta   Tempo Volta       Velocidade média da volta\n",
    "23:49:08.277      038 – F.MASSA                           1\t\t1:02.852                        44,275\n",
    "23:49:10.858      033 – R.BARRICHELLO                     1\t\t1:04.352                        43,243\n",
    "23:49:11.075      002 – K.RAIKKONEN                       1     1:04.108                        43,408\n",
    "23:49:12.667      023 – M.WEBBER                          1\t\t1:04.414                        43,202\n",
    "23:49:30.976      015 – F.ALONSO                          1\t\t1:18.456\t\t\t            35,47\n",
    "23:50:11.447      038 – F.MASSA                           2\t\t1:03.170                        44,053\n",
    "23:50:14.860      033 – R.BARRICHELLO                     2\t\t1:04.002                        43,48\n",
    "23:50:15.057      002 – K.RAIKKONEN                       2     1:03.982                        43,493\n",
    "23:50:17.472      023 – M.WEBBER                          2\t\t1:04.805                        42,941\n",
    "23:50:37.987      015 – F.ALONSO                          2\t\t1:07.011\t\t\t            41,528\n",
    "23:51:14.216      038 – F.MASSA                           3\t\t1:02.769                        44,334\n",
    "23:51:18.576      033 – R.BARRICHELLO\t\t              3\t\t1:03.716                        43,675\n",
    "23:51:19.044      002 – K.RAIKKONEN                       3\t\t1:03.987                        43,49\n",
    "23:51:21.759      023 – M.WEBBER                          3\t\t1:04.287                        43,287\n",
    "23:51:46.691      015 – F.ALONSO                          3\t\t1:08.704\t\t\t            40,504\n",
    "23:52:01.796      011 – S.VETTEL                          1\t\t3:31.315\t\t\t            13,169\n",
    "23:52:17.003      038 – F.MASS                            4\t\t1:02.787                        44,321\n",
    "23:52:22.586      033 – R.BARRICHELLO\t\t              4\t\t1:04.010                        43,474\n",
    "23:52:22.120      002 – K.RAIKKONEN                       4\t\t1:03.076                        44,118\n",
    "23:52:25.975      023 – M.WEBBER                          4\t\t1:04.216                        43,335\n",
    "23:53:06.741      015 – F.ALONSO                          4\t\t1:20.050\t\t\t            34,763\n",
    "23:53:39.660      011 – S.VETTEL                          2\t\t1:37.864\t\t\t            28,435\n",
    "23:54:57.757      011 – S.VETTEL                          3\t\t1:18.097\t\t\t            35,633"
   ]
  },
  {
   "cell_type": "markdown",
   "metadata": {},
   "source": [
    "O primeiros passo será reescrever esse arquivo em um arquivo CSV com separador ; para carregar os dados em um Dataframe pandas.\n",
    "O arquivo criado se chama logs.csv"
   ]
  },
  {
   "cell_type": "code",
   "execution_count": 1,
   "metadata": {},
   "outputs": [],
   "source": [
    "import pandas as pd"
   ]
  },
  {
   "cell_type": "code",
   "execution_count": 2,
   "metadata": {},
   "outputs": [
    {
     "data": {
      "text/html": [
       "<div>\n",
       "<style scoped>\n",
       "    .dataframe tbody tr th:only-of-type {\n",
       "        vertical-align: middle;\n",
       "    }\n",
       "\n",
       "    .dataframe tbody tr th {\n",
       "        vertical-align: top;\n",
       "    }\n",
       "\n",
       "    .dataframe thead th {\n",
       "        text-align: right;\n",
       "    }\n",
       "</style>\n",
       "<table border=\"1\" class=\"dataframe\">\n",
       "  <thead>\n",
       "    <tr style=\"text-align: right;\">\n",
       "      <th></th>\n",
       "      <th>Hora</th>\n",
       "      <th>Piloto</th>\n",
       "      <th>Nº Volta</th>\n",
       "      <th>Tempo Volta</th>\n",
       "      <th>Velocidade média da volta</th>\n",
       "    </tr>\n",
       "  </thead>\n",
       "  <tbody>\n",
       "    <tr>\n",
       "      <th>0</th>\n",
       "      <td>23:49:08.277</td>\n",
       "      <td>038 – F.MASSA</td>\n",
       "      <td>1</td>\n",
       "      <td>1:02.852</td>\n",
       "      <td>44.275</td>\n",
       "    </tr>\n",
       "    <tr>\n",
       "      <th>1</th>\n",
       "      <td>23:49:10.858</td>\n",
       "      <td>033 – R.BARRICHELLO</td>\n",
       "      <td>1</td>\n",
       "      <td>1:04.352</td>\n",
       "      <td>43.243</td>\n",
       "    </tr>\n",
       "    <tr>\n",
       "      <th>2</th>\n",
       "      <td>23:49:11.075</td>\n",
       "      <td>002 – K.RAIKKONEN</td>\n",
       "      <td>1</td>\n",
       "      <td>1:04.108</td>\n",
       "      <td>43.408</td>\n",
       "    </tr>\n",
       "    <tr>\n",
       "      <th>3</th>\n",
       "      <td>23:49:12.667</td>\n",
       "      <td>023 – M.WEBBER</td>\n",
       "      <td>1</td>\n",
       "      <td>1:04.414</td>\n",
       "      <td>43.202</td>\n",
       "    </tr>\n",
       "    <tr>\n",
       "      <th>4</th>\n",
       "      <td>23:49:30.976</td>\n",
       "      <td>015 – F.ALONSO</td>\n",
       "      <td>1</td>\n",
       "      <td>1:18.456</td>\n",
       "      <td>35.470</td>\n",
       "    </tr>\n",
       "  </tbody>\n",
       "</table>\n",
       "</div>"
      ],
      "text/plain": [
       "           Hora               Piloto  Nº Volta Tempo Volta  \\\n",
       "0  23:49:08.277        038 – F.MASSA         1    1:02.852   \n",
       "1  23:49:10.858  033 – R.BARRICHELLO         1    1:04.352   \n",
       "2  23:49:11.075    002 – K.RAIKKONEN         1    1:04.108   \n",
       "3  23:49:12.667       023 – M.WEBBER         1    1:04.414   \n",
       "4  23:49:30.976       015 – F.ALONSO         1    1:18.456   \n",
       "\n",
       "   Velocidade média da volta  \n",
       "0                     44.275  \n",
       "1                     43.243  \n",
       "2                     43.408  \n",
       "3                     43.202  \n",
       "4                     35.470  "
      ]
     },
     "execution_count": 2,
     "metadata": {},
     "output_type": "execute_result"
    }
   ],
   "source": [
    "df =  pd.read_csv('logs.csv', sep=';')\n",
    "df.head()"
   ]
  },
  {
   "cell_type": "markdown",
   "metadata": {},
   "source": [
    "## Carregamento e transformação dos dados\n",
    "\n",
    "Criaremos outro dataframe com os dados agregados para cada pilo, nesse dataframe colocaremos todos os campos de interesse i.e. Posição Chegada, Código Piloto, Nome Piloto, Qtde Voltas Completadas e Tempo Total de Prova."
   ]
  },
  {
   "cell_type": "code",
   "execution_count": 3,
   "metadata": {},
   "outputs": [],
   "source": [
    "# primeiro, criamos uma lista com o nome e id de cada piloto no dataframe\n",
    "lista_pilotos_id = df.Piloto.unique()\n",
    "\n",
    "# agora criamos listas vazias que serão populadas durante o loop\n",
    "l_nome_piloto = []\n",
    "l_id_piloto = []\n",
    "l_n_voltas = []\n",
    "tempo_total_segundos = []\n",
    "\n",
    "# loop sob cada piloto, id no dataframe para agregar dados e calcular algumas coisas\n",
    "# como o tempo total de prova e quantidade de voltas\n",
    "\n",
    "for piloto_id in lista_pilotos_id:\n",
    "    \n",
    "    # do campo piloto tiramos o nome e id do piloto para popular suas respectivas listas\n",
    "    id, nome = piloto_id.split(' – ')\n",
    "    l_nome_piloto.append(nome)\n",
    "    l_id_piloto.append(id)\n",
    "    \n",
    "    # do campo N Volta, podemos tirar a quantidade de voltas, que sera o maior numero da lista\n",
    "    l_n_voltas.append(df[df.Piloto == piloto_id]['Nº Volta'].max())\n",
    "    \n",
    "    # Agora vamos somar os tempo de cada volta de cada piloto em segundos para obter o tempo total de prova\n",
    "    t_total = 0\n",
    "    for t_volta in df[df.Piloto == piloto_id]['Tempo Volta']:\n",
    "        t_min, t_seg = t_volta.split(':')\n",
    "        #vamos transformar tudo para segundos e arredondar para a segunda casa\n",
    "        t_total+= round(int(t_min)*60 + float(t_seg), 2)\n",
    "    tempo_total_segundos.append(t_total)\n"
   ]
  },
  {
   "cell_type": "code",
   "execution_count": 4,
   "metadata": {},
   "outputs": [],
   "source": [
    "# Agora vamos criar novo dataframe com os campos\n",
    "# Posição Chegada, Código Piloto, Nome Piloto, Qtde Voltas Completadas e Tempo Total de Prova.\n",
    "# Posicao Chegada será adicionado em seguida\n",
    "\n",
    "df2 = pd.DataFrame.from_dict({'Código Piloto': l_id_piloto, 'Nome Piloto': l_nome_piloto,\n",
    "                             'Qtde Voltas Completadas': l_n_voltas,\n",
    "                             'Tempo Total de Prova [s]': tempo_total_segundos})"
   ]
  },
  {
   "cell_type": "code",
   "execution_count": 5,
   "metadata": {},
   "outputs": [],
   "source": [
    "# Vamos criar um dataframe de pilotos que terminaram a corrida\n",
    "# depois iremos ordenalos por tempo de chegada\n",
    "# assim iremos adicionar a coluna posicao\n",
    "\n",
    "df3 = df2[df2['Qtde Voltas Completadas'] == max(l_n_voltas)].sort_values('Tempo Total de Prova [s]', ascending=True)\n",
    "posicao = []\n",
    "for i in range(len(df3)):\n",
    "    posicao.append(i+1)\n",
    "df3.insert(0, 'Posição Chegada', posicao, True)\n",
    "\n",
    "# Agora vamos criar um dataframe com todos os pilotos que não terminaram a corrida\n",
    "# a posicao deles sera igual uma posicao depois do ultimo piloto que terminou a corrida\n",
    "\n",
    "df2 = df2[df2['Qtde Voltas Completadas'] != max(l_n_voltas)].sort_values('Tempo Total de Prova [s]', ascending=True)\n",
    "posicao = []\n",
    "for _ in range(len(df2)):\n",
    "    posicao.append(i+2)\n",
    "df2.insert(0, 'Posição Chegada', posicao, True)\n",
    "\n",
    "df3 = df3.append(df2, sort=False, ignore_index=True)\n"
   ]
  },
  {
   "cell_type": "markdown",
   "metadata": {},
   "source": [
    "## Resultado\n",
    "\n",
    "Posição Chegada, Código Piloto, Nome Piloto, Qtde Voltas Completadas e Tempo Total de Prova podem ser vistos no Dataframe abaixo"
   ]
  },
  {
   "cell_type": "code",
   "execution_count": 6,
   "metadata": {},
   "outputs": [
    {
     "data": {
      "text/html": [
       "<div>\n",
       "<style scoped>\n",
       "    .dataframe tbody tr th:only-of-type {\n",
       "        vertical-align: middle;\n",
       "    }\n",
       "\n",
       "    .dataframe tbody tr th {\n",
       "        vertical-align: top;\n",
       "    }\n",
       "\n",
       "    .dataframe thead th {\n",
       "        text-align: right;\n",
       "    }\n",
       "</style>\n",
       "<table border=\"1\" class=\"dataframe\">\n",
       "  <thead>\n",
       "    <tr style=\"text-align: right;\">\n",
       "      <th></th>\n",
       "      <th>Posição Chegada</th>\n",
       "      <th>Código Piloto</th>\n",
       "      <th>Nome Piloto</th>\n",
       "      <th>Qtde Voltas Completadas</th>\n",
       "      <th>Tempo Total de Prova [s]</th>\n",
       "    </tr>\n",
       "  </thead>\n",
       "  <tbody>\n",
       "    <tr>\n",
       "      <th>0</th>\n",
       "      <td>1</td>\n",
       "      <td>038</td>\n",
       "      <td>F.MASSA</td>\n",
       "      <td>4</td>\n",
       "      <td>251.58</td>\n",
       "    </tr>\n",
       "    <tr>\n",
       "      <th>1</th>\n",
       "      <td>2</td>\n",
       "      <td>002</td>\n",
       "      <td>K.RAIKKONEN</td>\n",
       "      <td>4</td>\n",
       "      <td>255.16</td>\n",
       "    </tr>\n",
       "    <tr>\n",
       "      <th>2</th>\n",
       "      <td>3</td>\n",
       "      <td>033</td>\n",
       "      <td>R.BARRICHELLO</td>\n",
       "      <td>4</td>\n",
       "      <td>256.08</td>\n",
       "    </tr>\n",
       "    <tr>\n",
       "      <th>3</th>\n",
       "      <td>4</td>\n",
       "      <td>023</td>\n",
       "      <td>M.WEBBER</td>\n",
       "      <td>4</td>\n",
       "      <td>257.73</td>\n",
       "    </tr>\n",
       "    <tr>\n",
       "      <th>4</th>\n",
       "      <td>5</td>\n",
       "      <td>015</td>\n",
       "      <td>F.ALONSO</td>\n",
       "      <td>4</td>\n",
       "      <td>294.22</td>\n",
       "    </tr>\n",
       "    <tr>\n",
       "      <th>5</th>\n",
       "      <td>6</td>\n",
       "      <td>011</td>\n",
       "      <td>S.VETTEL</td>\n",
       "      <td>3</td>\n",
       "      <td>387.27</td>\n",
       "    </tr>\n",
       "  </tbody>\n",
       "</table>\n",
       "</div>"
      ],
      "text/plain": [
       "   Posição Chegada Código Piloto    Nome Piloto  Qtde Voltas Completadas  \\\n",
       "0                1           038        F.MASSA                        4   \n",
       "1                2           002    K.RAIKKONEN                        4   \n",
       "2                3           033  R.BARRICHELLO                        4   \n",
       "3                4           023       M.WEBBER                        4   \n",
       "4                5           015       F.ALONSO                        4   \n",
       "5                6           011       S.VETTEL                        3   \n",
       "\n",
       "   Tempo Total de Prova [s]  \n",
       "0                    251.58  \n",
       "1                    255.16  \n",
       "2                    256.08  \n",
       "3                    257.73  \n",
       "4                    294.22  \n",
       "5                    387.27  "
      ]
     },
     "execution_count": 6,
     "metadata": {},
     "output_type": "execute_result"
    }
   ],
   "source": [
    "df3.head(len(df3))"
   ]
  },
  {
   "cell_type": "markdown",
   "metadata": {},
   "source": [
    "## Explorando um pouco mais\n",
    "\n",
    "Agora iremos responder a algumas perguntas, são elas:\n",
    "\n",
    "A melhor volta de cada piloto\n",
    "\n",
    "A melhor volta da corrida e\n",
    "\n",
    "Calcular a velocidade média de cada piloto durante toda corrida"
   ]
  },
  {
   "cell_type": "markdown",
   "metadata": {},
   "source": [
    "#### A melhor volta de cada piloto e a volta mais rápida"
   ]
  },
  {
   "cell_type": "code",
   "execution_count": 10,
   "metadata": {},
   "outputs": [
    {
     "data": {
      "text/html": [
       "<div>\n",
       "<style scoped>\n",
       "    .dataframe tbody tr th:only-of-type {\n",
       "        vertical-align: middle;\n",
       "    }\n",
       "\n",
       "    .dataframe tbody tr th {\n",
       "        vertical-align: top;\n",
       "    }\n",
       "\n",
       "    .dataframe thead th {\n",
       "        text-align: right;\n",
       "    }\n",
       "</style>\n",
       "<table border=\"1\" class=\"dataframe\">\n",
       "  <thead>\n",
       "    <tr style=\"text-align: right;\">\n",
       "      <th></th>\n",
       "      <th>Hora</th>\n",
       "      <th>Nº Volta</th>\n",
       "      <th>Tempo Volta</th>\n",
       "      <th>Velocidade média da volta</th>\n",
       "    </tr>\n",
       "    <tr>\n",
       "      <th>Piloto</th>\n",
       "      <th></th>\n",
       "      <th></th>\n",
       "      <th></th>\n",
       "      <th></th>\n",
       "    </tr>\n",
       "  </thead>\n",
       "  <tbody>\n",
       "    <tr>\n",
       "      <th>002 – K.RAIKKONEN</th>\n",
       "      <td>23:52:22.120</td>\n",
       "      <td>4</td>\n",
       "      <td>1:04.108</td>\n",
       "      <td>44.118</td>\n",
       "    </tr>\n",
       "    <tr>\n",
       "      <th>011 – S.VETTEL</th>\n",
       "      <td>23:54:57.757</td>\n",
       "      <td>3</td>\n",
       "      <td>3:31.315</td>\n",
       "      <td>35.633</td>\n",
       "    </tr>\n",
       "    <tr>\n",
       "      <th>015 – F.ALONSO</th>\n",
       "      <td>23:53:06.741</td>\n",
       "      <td>4</td>\n",
       "      <td>1:20.050</td>\n",
       "      <td>41.528</td>\n",
       "    </tr>\n",
       "    <tr>\n",
       "      <th>023 – M.WEBBER</th>\n",
       "      <td>23:52:25.975</td>\n",
       "      <td>4</td>\n",
       "      <td>1:04.805</td>\n",
       "      <td>43.335</td>\n",
       "    </tr>\n",
       "    <tr>\n",
       "      <th>033 – R.BARRICHELLO</th>\n",
       "      <td>23:52:22.586</td>\n",
       "      <td>4</td>\n",
       "      <td>1:04.352</td>\n",
       "      <td>43.675</td>\n",
       "    </tr>\n",
       "    <tr>\n",
       "      <th>038 – F.MASSA</th>\n",
       "      <td>23:52:17.003</td>\n",
       "      <td>4</td>\n",
       "      <td>1:03.170</td>\n",
       "      <td>44.334</td>\n",
       "    </tr>\n",
       "  </tbody>\n",
       "</table>\n",
       "</div>"
      ],
      "text/plain": [
       "                             Hora  Nº Volta Tempo Volta  \\\n",
       "Piloto                                                    \n",
       "002 – K.RAIKKONEN    23:52:22.120         4    1:04.108   \n",
       "011 – S.VETTEL       23:54:57.757         3    3:31.315   \n",
       "015 – F.ALONSO       23:53:06.741         4    1:20.050   \n",
       "023 – M.WEBBER       23:52:25.975         4    1:04.805   \n",
       "033 – R.BARRICHELLO  23:52:22.586         4    1:04.352   \n",
       "038 – F.MASSA        23:52:17.003         4    1:03.170   \n",
       "\n",
       "                     Velocidade média da volta  \n",
       "Piloto                                          \n",
       "002 – K.RAIKKONEN                       44.118  \n",
       "011 – S.VETTEL                          35.633  \n",
       "015 – F.ALONSO                          41.528  \n",
       "023 – M.WEBBER                          43.335  \n",
       "033 – R.BARRICHELLO                     43.675  \n",
       "038 – F.MASSA                           44.334  "
      ]
     },
     "execution_count": 10,
     "metadata": {},
     "output_type": "execute_result"
    }
   ],
   "source": [
    "df.groupby('Piloto').max()"
   ]
  },
  {
   "cell_type": "markdown",
   "metadata": {},
   "source": [
    "Utilizando o groupby, podemos ver que a melhor volta de todos os pilotos, foi a última de cada um.\n",
    "\n",
    "Também podemos notar que a volta mais rápida foi a do piloto F.MASSA"
   ]
  },
  {
   "cell_type": "markdown",
   "metadata": {},
   "source": [
    "#### A velocidade média de cada piloto durante toda corrida"
   ]
  },
  {
   "cell_type": "code",
   "execution_count": 8,
   "metadata": {},
   "outputs": [
    {
     "data": {
      "text/plain": [
       "Piloto\n",
       "002 – K.RAIKKONEN      43.627250\n",
       "011 – S.VETTEL         25.745667\n",
       "015 – F.ALONSO         38.066250\n",
       "023 – M.WEBBER         43.191250\n",
       "033 – R.BARRICHELLO    43.468000\n",
       "038 – F.MASSA          44.245750\n",
       "Name: Velocidade média da volta, dtype: float64"
      ]
     },
     "execution_count": 8,
     "metadata": {},
     "output_type": "execute_result"
    }
   ],
   "source": [
    "df.groupby('Piloto')['Velocidade média da volta'].mean()"
   ]
  },
  {
   "cell_type": "markdown",
   "metadata": {},
   "source": [
    "Como era o esperando, F.MASSA foi o piloto com velocidade média mais alta. VETTEL foi o piloto com menor velocidade média."
   ]
  },
  {
   "cell_type": "code",
   "execution_count": null,
   "metadata": {},
   "outputs": [],
   "source": []
  }
 ],
 "metadata": {
  "kernelspec": {
   "display_name": "Python 3",
   "language": "python",
   "name": "python3"
  },
  "language_info": {
   "codemirror_mode": {
    "name": "ipython",
    "version": 3
   },
   "file_extension": ".py",
   "mimetype": "text/x-python",
   "name": "python",
   "nbconvert_exporter": "python",
   "pygments_lexer": "ipython3",
   "version": "3.7.4"
  }
 },
 "nbformat": 4,
 "nbformat_minor": 2
}
